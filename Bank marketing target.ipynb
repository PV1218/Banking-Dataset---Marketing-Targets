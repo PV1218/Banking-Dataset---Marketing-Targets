{
 "cells": [
  {
   "cell_type": "code",
   "execution_count": 34,
   "id": "0512cde9",
   "metadata": {
    "_cell_guid": "b1076dfc-b9ad-4769-8c92-a6c4dae69d19",
    "_uuid": "8f2839f25d086af736a60e9eeb907d3b93b6e0e5",
    "execution": {
     "iopub.execute_input": "2024-04-26T03:48:31.467733Z",
     "iopub.status.busy": "2024-04-26T03:48:31.466853Z",
     "iopub.status.idle": "2024-04-26T03:48:34.029423Z",
     "shell.execute_reply": "2024-04-26T03:48:34.028482Z"
    },
    "papermill": {
     "duration": 2.577706,
     "end_time": "2024-04-26T03:48:34.032233",
     "exception": false,
     "start_time": "2024-04-26T03:48:31.454527",
     "status": "completed"
    },
    "tags": []
   },
   "outputs": [],
   "source": [
    "import pandas as pd \n",
    "import numpy as np\n",
    "import matplotlib.pyplot as plt\n",
    "import seaborn as sns\n",
    "import warnings\n",
    "warnings.filterwarnings(\"ignore\")"
   ]
  },
  {
   "cell_type": "code",
   "execution_count": 35,
   "id": "e3f808f9",
   "metadata": {
    "execution": {
     "iopub.execute_input": "2024-04-26T03:48:34.053810Z",
     "iopub.status.busy": "2024-04-26T03:48:34.052913Z",
     "iopub.status.idle": "2024-04-26T03:48:34.299433Z",
     "shell.execute_reply": "2024-04-26T03:48:34.298122Z"
    },
    "papermill": {
     "duration": 0.260584,
     "end_time": "2024-04-26T03:48:34.302394",
     "exception": false,
     "start_time": "2024-04-26T03:48:34.041810",
     "status": "completed"
    },
    "tags": []
   },
   "outputs": [],
   "source": [
    "df1 = pd.read_csv('train.csv',sep=\";\")\n",
    "df2 = pd.read_csv('test.csv',sep=\";\")"
   ]
  },
  {
   "cell_type": "code",
   "execution_count": 36,
   "id": "333a7a39",
   "metadata": {
    "execution": {
     "iopub.execute_input": "2024-04-26T03:48:34.323793Z",
     "iopub.status.busy": "2024-04-26T03:48:34.323362Z",
     "iopub.status.idle": "2024-04-26T03:48:34.336797Z",
     "shell.execute_reply": "2024-04-26T03:48:34.335583Z"
    },
    "papermill": {
     "duration": 0.027376,
     "end_time": "2024-04-26T03:48:34.339547",
     "exception": false,
     "start_time": "2024-04-26T03:48:34.312171",
     "status": "completed"
    },
    "tags": []
   },
   "outputs": [],
   "source": [
    "# Combining both train Test Datasets\n",
    "df = pd.concat([df1,df2],ignore_index=True)"
   ]
  },
  {
   "cell_type": "code",
   "execution_count": 37,
   "id": "f73f65c9",
   "metadata": {
    "execution": {
     "iopub.execute_input": "2024-04-26T03:48:34.360669Z",
     "iopub.status.busy": "2024-04-26T03:48:34.360219Z",
     "iopub.status.idle": "2024-04-26T03:48:34.386077Z",
     "shell.execute_reply": "2024-04-26T03:48:34.385000Z"
    },
    "papermill": {
     "duration": 0.039563,
     "end_time": "2024-04-26T03:48:34.388746",
     "exception": false,
     "start_time": "2024-04-26T03:48:34.349183",
     "status": "completed"
    },
    "tags": []
   },
   "outputs": [
    {
     "data": {
      "text/html": [
       "<div>\n",
       "<style scoped>\n",
       "    .dataframe tbody tr th:only-of-type {\n",
       "        vertical-align: middle;\n",
       "    }\n",
       "\n",
       "    .dataframe tbody tr th {\n",
       "        vertical-align: top;\n",
       "    }\n",
       "\n",
       "    .dataframe thead th {\n",
       "        text-align: right;\n",
       "    }\n",
       "</style>\n",
       "<table border=\"1\" class=\"dataframe\">\n",
       "  <thead>\n",
       "    <tr style=\"text-align: right;\">\n",
       "      <th></th>\n",
       "      <th>age</th>\n",
       "      <th>job</th>\n",
       "      <th>marital</th>\n",
       "      <th>education</th>\n",
       "      <th>default</th>\n",
       "      <th>balance</th>\n",
       "      <th>housing</th>\n",
       "      <th>loan</th>\n",
       "      <th>contact</th>\n",
       "      <th>day</th>\n",
       "      <th>month</th>\n",
       "      <th>duration</th>\n",
       "      <th>campaign</th>\n",
       "      <th>pdays</th>\n",
       "      <th>previous</th>\n",
       "      <th>poutcome</th>\n",
       "      <th>y</th>\n",
       "    </tr>\n",
       "  </thead>\n",
       "  <tbody>\n",
       "    <tr>\n",
       "      <th>0</th>\n",
       "      <td>58</td>\n",
       "      <td>management</td>\n",
       "      <td>married</td>\n",
       "      <td>tertiary</td>\n",
       "      <td>no</td>\n",
       "      <td>2143</td>\n",
       "      <td>yes</td>\n",
       "      <td>no</td>\n",
       "      <td>unknown</td>\n",
       "      <td>5</td>\n",
       "      <td>may</td>\n",
       "      <td>261</td>\n",
       "      <td>1</td>\n",
       "      <td>-1</td>\n",
       "      <td>0</td>\n",
       "      <td>unknown</td>\n",
       "      <td>no</td>\n",
       "    </tr>\n",
       "    <tr>\n",
       "      <th>1</th>\n",
       "      <td>44</td>\n",
       "      <td>technician</td>\n",
       "      <td>single</td>\n",
       "      <td>secondary</td>\n",
       "      <td>no</td>\n",
       "      <td>29</td>\n",
       "      <td>yes</td>\n",
       "      <td>no</td>\n",
       "      <td>unknown</td>\n",
       "      <td>5</td>\n",
       "      <td>may</td>\n",
       "      <td>151</td>\n",
       "      <td>1</td>\n",
       "      <td>-1</td>\n",
       "      <td>0</td>\n",
       "      <td>unknown</td>\n",
       "      <td>no</td>\n",
       "    </tr>\n",
       "    <tr>\n",
       "      <th>2</th>\n",
       "      <td>33</td>\n",
       "      <td>entrepreneur</td>\n",
       "      <td>married</td>\n",
       "      <td>secondary</td>\n",
       "      <td>no</td>\n",
       "      <td>2</td>\n",
       "      <td>yes</td>\n",
       "      <td>yes</td>\n",
       "      <td>unknown</td>\n",
       "      <td>5</td>\n",
       "      <td>may</td>\n",
       "      <td>76</td>\n",
       "      <td>1</td>\n",
       "      <td>-1</td>\n",
       "      <td>0</td>\n",
       "      <td>unknown</td>\n",
       "      <td>no</td>\n",
       "    </tr>\n",
       "    <tr>\n",
       "      <th>3</th>\n",
       "      <td>47</td>\n",
       "      <td>blue-collar</td>\n",
       "      <td>married</td>\n",
       "      <td>unknown</td>\n",
       "      <td>no</td>\n",
       "      <td>1506</td>\n",
       "      <td>yes</td>\n",
       "      <td>no</td>\n",
       "      <td>unknown</td>\n",
       "      <td>5</td>\n",
       "      <td>may</td>\n",
       "      <td>92</td>\n",
       "      <td>1</td>\n",
       "      <td>-1</td>\n",
       "      <td>0</td>\n",
       "      <td>unknown</td>\n",
       "      <td>no</td>\n",
       "    </tr>\n",
       "    <tr>\n",
       "      <th>4</th>\n",
       "      <td>33</td>\n",
       "      <td>unknown</td>\n",
       "      <td>single</td>\n",
       "      <td>unknown</td>\n",
       "      <td>no</td>\n",
       "      <td>1</td>\n",
       "      <td>no</td>\n",
       "      <td>no</td>\n",
       "      <td>unknown</td>\n",
       "      <td>5</td>\n",
       "      <td>may</td>\n",
       "      <td>198</td>\n",
       "      <td>1</td>\n",
       "      <td>-1</td>\n",
       "      <td>0</td>\n",
       "      <td>unknown</td>\n",
       "      <td>no</td>\n",
       "    </tr>\n",
       "  </tbody>\n",
       "</table>\n",
       "</div>"
      ],
      "text/plain": [
       "   age           job  marital  education default  balance housing loan  \\\n",
       "0   58    management  married   tertiary      no     2143     yes   no   \n",
       "1   44    technician   single  secondary      no       29     yes   no   \n",
       "2   33  entrepreneur  married  secondary      no        2     yes  yes   \n",
       "3   47   blue-collar  married    unknown      no     1506     yes   no   \n",
       "4   33       unknown   single    unknown      no        1      no   no   \n",
       "\n",
       "   contact  day month  duration  campaign  pdays  previous poutcome   y  \n",
       "0  unknown    5   may       261         1     -1         0  unknown  no  \n",
       "1  unknown    5   may       151         1     -1         0  unknown  no  \n",
       "2  unknown    5   may        76         1     -1         0  unknown  no  \n",
       "3  unknown    5   may        92         1     -1         0  unknown  no  \n",
       "4  unknown    5   may       198         1     -1         0  unknown  no  "
      ]
     },
     "execution_count": 37,
     "metadata": {},
     "output_type": "execute_result"
    }
   ],
   "source": [
    "df.head()"
   ]
  },
  {
   "cell_type": "code",
   "execution_count": 38,
   "id": "015054ce",
   "metadata": {
    "execution": {
     "iopub.execute_input": "2024-04-26T03:48:34.410518Z",
     "iopub.status.busy": "2024-04-26T03:48:34.410135Z",
     "iopub.status.idle": "2024-04-26T03:48:34.417180Z",
     "shell.execute_reply": "2024-04-26T03:48:34.416111Z"
    },
    "papermill": {
     "duration": 0.020652,
     "end_time": "2024-04-26T03:48:34.419496",
     "exception": false,
     "start_time": "2024-04-26T03:48:34.398844",
     "status": "completed"
    },
    "tags": []
   },
   "outputs": [
    {
     "data": {
      "text/plain": [
       "(49732, 17)"
      ]
     },
     "execution_count": 38,
     "metadata": {},
     "output_type": "execute_result"
    }
   ],
   "source": [
    "df.shape"
   ]
  },
  {
   "cell_type": "code",
   "execution_count": 39,
   "id": "547524ff",
   "metadata": {
    "execution": {
     "iopub.execute_input": "2024-04-26T03:48:34.440911Z",
     "iopub.status.busy": "2024-04-26T03:48:34.440508Z",
     "iopub.status.idle": "2024-04-26T03:48:34.505462Z",
     "shell.execute_reply": "2024-04-26T03:48:34.504228Z"
    },
    "papermill": {
     "duration": 0.078806,
     "end_time": "2024-04-26T03:48:34.508154",
     "exception": false,
     "start_time": "2024-04-26T03:48:34.429348",
     "status": "completed"
    },
    "tags": []
   },
   "outputs": [
    {
     "data": {
      "text/plain": [
       "age          0\n",
       "job          0\n",
       "marital      0\n",
       "education    0\n",
       "default      0\n",
       "balance      0\n",
       "housing      0\n",
       "loan         0\n",
       "contact      0\n",
       "day          0\n",
       "month        0\n",
       "duration     0\n",
       "campaign     0\n",
       "pdays        0\n",
       "previous     0\n",
       "poutcome     0\n",
       "y            0\n",
       "dtype: int64"
      ]
     },
     "execution_count": 39,
     "metadata": {},
     "output_type": "execute_result"
    }
   ],
   "source": [
    "# Find null values in dataset\n",
    "df.isnull().sum()"
   ]
  },
  {
   "cell_type": "code",
   "execution_count": 40,
   "id": "b2001670",
   "metadata": {
    "execution": {
     "iopub.execute_input": "2024-04-26T03:48:34.530393Z",
     "iopub.status.busy": "2024-04-26T03:48:34.530003Z",
     "iopub.status.idle": "2024-04-26T03:48:34.587331Z",
     "shell.execute_reply": "2024-04-26T03:48:34.586246Z"
    },
    "papermill": {
     "duration": 0.071654,
     "end_time": "2024-04-26T03:48:34.589966",
     "exception": false,
     "start_time": "2024-04-26T03:48:34.518312",
     "status": "completed"
    },
    "tags": []
   },
   "outputs": [
    {
     "data": {
      "text/html": [
       "<div>\n",
       "<style scoped>\n",
       "    .dataframe tbody tr th:only-of-type {\n",
       "        vertical-align: middle;\n",
       "    }\n",
       "\n",
       "    .dataframe tbody tr th {\n",
       "        vertical-align: top;\n",
       "    }\n",
       "\n",
       "    .dataframe thead th {\n",
       "        text-align: right;\n",
       "    }\n",
       "</style>\n",
       "<table border=\"1\" class=\"dataframe\">\n",
       "  <thead>\n",
       "    <tr style=\"text-align: right;\">\n",
       "      <th></th>\n",
       "      <th>age</th>\n",
       "      <th>balance</th>\n",
       "      <th>day</th>\n",
       "      <th>duration</th>\n",
       "      <th>campaign</th>\n",
       "      <th>pdays</th>\n",
       "      <th>previous</th>\n",
       "    </tr>\n",
       "  </thead>\n",
       "  <tbody>\n",
       "    <tr>\n",
       "      <th>count</th>\n",
       "      <td>49732.000000</td>\n",
       "      <td>49732.000000</td>\n",
       "      <td>49732.000000</td>\n",
       "      <td>49732.000000</td>\n",
       "      <td>49732.000000</td>\n",
       "      <td>49732.000000</td>\n",
       "      <td>49732.000000</td>\n",
       "    </tr>\n",
       "    <tr>\n",
       "      <th>mean</th>\n",
       "      <td>40.957472</td>\n",
       "      <td>1367.761562</td>\n",
       "      <td>15.816315</td>\n",
       "      <td>258.690179</td>\n",
       "      <td>2.766549</td>\n",
       "      <td>40.158630</td>\n",
       "      <td>0.576892</td>\n",
       "    </tr>\n",
       "    <tr>\n",
       "      <th>std</th>\n",
       "      <td>10.615008</td>\n",
       "      <td>3041.608766</td>\n",
       "      <td>8.315680</td>\n",
       "      <td>257.743149</td>\n",
       "      <td>3.099075</td>\n",
       "      <td>100.127123</td>\n",
       "      <td>2.254838</td>\n",
       "    </tr>\n",
       "    <tr>\n",
       "      <th>min</th>\n",
       "      <td>18.000000</td>\n",
       "      <td>-8019.000000</td>\n",
       "      <td>1.000000</td>\n",
       "      <td>0.000000</td>\n",
       "      <td>1.000000</td>\n",
       "      <td>-1.000000</td>\n",
       "      <td>0.000000</td>\n",
       "    </tr>\n",
       "    <tr>\n",
       "      <th>25%</th>\n",
       "      <td>33.000000</td>\n",
       "      <td>72.000000</td>\n",
       "      <td>8.000000</td>\n",
       "      <td>103.000000</td>\n",
       "      <td>1.000000</td>\n",
       "      <td>-1.000000</td>\n",
       "      <td>0.000000</td>\n",
       "    </tr>\n",
       "    <tr>\n",
       "      <th>50%</th>\n",
       "      <td>39.000000</td>\n",
       "      <td>448.000000</td>\n",
       "      <td>16.000000</td>\n",
       "      <td>180.000000</td>\n",
       "      <td>2.000000</td>\n",
       "      <td>-1.000000</td>\n",
       "      <td>0.000000</td>\n",
       "    </tr>\n",
       "    <tr>\n",
       "      <th>75%</th>\n",
       "      <td>48.000000</td>\n",
       "      <td>1431.000000</td>\n",
       "      <td>21.000000</td>\n",
       "      <td>320.000000</td>\n",
       "      <td>3.000000</td>\n",
       "      <td>-1.000000</td>\n",
       "      <td>0.000000</td>\n",
       "    </tr>\n",
       "    <tr>\n",
       "      <th>max</th>\n",
       "      <td>95.000000</td>\n",
       "      <td>102127.000000</td>\n",
       "      <td>31.000000</td>\n",
       "      <td>4918.000000</td>\n",
       "      <td>63.000000</td>\n",
       "      <td>871.000000</td>\n",
       "      <td>275.000000</td>\n",
       "    </tr>\n",
       "  </tbody>\n",
       "</table>\n",
       "</div>"
      ],
      "text/plain": [
       "                age        balance           day      duration      campaign  \\\n",
       "count  49732.000000   49732.000000  49732.000000  49732.000000  49732.000000   \n",
       "mean      40.957472    1367.761562     15.816315    258.690179      2.766549   \n",
       "std       10.615008    3041.608766      8.315680    257.743149      3.099075   \n",
       "min       18.000000   -8019.000000      1.000000      0.000000      1.000000   \n",
       "25%       33.000000      72.000000      8.000000    103.000000      1.000000   \n",
       "50%       39.000000     448.000000     16.000000    180.000000      2.000000   \n",
       "75%       48.000000    1431.000000     21.000000    320.000000      3.000000   \n",
       "max       95.000000  102127.000000     31.000000   4918.000000     63.000000   \n",
       "\n",
       "              pdays      previous  \n",
       "count  49732.000000  49732.000000  \n",
       "mean      40.158630      0.576892  \n",
       "std      100.127123      2.254838  \n",
       "min       -1.000000      0.000000  \n",
       "25%       -1.000000      0.000000  \n",
       "50%       -1.000000      0.000000  \n",
       "75%       -1.000000      0.000000  \n",
       "max      871.000000    275.000000  "
      ]
     },
     "execution_count": 40,
     "metadata": {},
     "output_type": "execute_result"
    }
   ],
   "source": [
    "df.describe()"
   ]
  },
  {
   "cell_type": "code",
   "execution_count": 41,
   "id": "5e31809e",
   "metadata": {
    "execution": {
     "iopub.execute_input": "2024-04-26T03:48:34.615862Z",
     "iopub.status.busy": "2024-04-26T03:48:34.614863Z",
     "iopub.status.idle": "2024-04-26T03:48:34.623559Z",
     "shell.execute_reply": "2024-04-26T03:48:34.622622Z"
    },
    "papermill": {
     "duration": 0.025288,
     "end_time": "2024-04-26T03:48:34.625979",
     "exception": false,
     "start_time": "2024-04-26T03:48:34.600691",
     "status": "completed"
    },
    "tags": []
   },
   "outputs": [
    {
     "data": {
      "text/plain": [
       "age           int64\n",
       "job          object\n",
       "marital      object\n",
       "education    object\n",
       "default      object\n",
       "balance       int64\n",
       "housing      object\n",
       "loan         object\n",
       "contact      object\n",
       "day           int64\n",
       "month        object\n",
       "duration      int64\n",
       "campaign      int64\n",
       "pdays         int64\n",
       "previous      int64\n",
       "poutcome     object\n",
       "y            object\n",
       "dtype: object"
      ]
     },
     "execution_count": 41,
     "metadata": {},
     "output_type": "execute_result"
    }
   ],
   "source": [
    "# Checking data types\n",
    "df.dtypes"
   ]
  },
  {
   "cell_type": "code",
   "execution_count": 42,
   "id": "e2686f59",
   "metadata": {
    "execution": {
     "iopub.execute_input": "2024-04-26T03:48:34.649292Z",
     "iopub.status.busy": "2024-04-26T03:48:34.648916Z",
     "iopub.status.idle": "2024-04-26T03:48:34.665857Z",
     "shell.execute_reply": "2024-04-26T03:48:34.664932Z"
    },
    "papermill": {
     "duration": 0.031631,
     "end_time": "2024-04-26T03:48:34.668183",
     "exception": false,
     "start_time": "2024-04-26T03:48:34.636552",
     "status": "completed"
    },
    "tags": []
   },
   "outputs": [],
   "source": [
    "x = df.drop(['y'],axis = 1)\n",
    "y =df.y"
   ]
  },
  {
   "cell_type": "code",
   "execution_count": 43,
   "id": "2d67074a",
   "metadata": {
    "execution": {
     "iopub.execute_input": "2024-04-26T03:48:34.691367Z",
     "iopub.status.busy": "2024-04-26T03:48:34.691003Z",
     "iopub.status.idle": "2024-04-26T03:48:34.699157Z",
     "shell.execute_reply": "2024-04-26T03:48:34.698043Z"
    },
    "papermill": {
     "duration": 0.022375,
     "end_time": "2024-04-26T03:48:34.701340",
     "exception": false,
     "start_time": "2024-04-26T03:48:34.678965",
     "status": "completed"
    },
    "tags": []
   },
   "outputs": [
    {
     "data": {
      "text/plain": [
       "0    no\n",
       "1    no\n",
       "2    no\n",
       "3    no\n",
       "4    no\n",
       "Name: y, dtype: object"
      ]
     },
     "execution_count": 43,
     "metadata": {},
     "output_type": "execute_result"
    }
   ],
   "source": [
    "y.head()"
   ]
  },
  {
   "cell_type": "code",
   "execution_count": 44,
   "id": "41f1714b",
   "metadata": {
    "execution": {
     "iopub.execute_input": "2024-04-26T03:48:34.724499Z",
     "iopub.status.busy": "2024-04-26T03:48:34.724138Z",
     "iopub.status.idle": "2024-04-26T03:48:34.756209Z",
     "shell.execute_reply": "2024-04-26T03:48:34.754942Z"
    },
    "papermill": {
     "duration": 0.047015,
     "end_time": "2024-04-26T03:48:34.759106",
     "exception": false,
     "start_time": "2024-04-26T03:48:34.712091",
     "status": "completed"
    },
    "tags": []
   },
   "outputs": [],
   "source": [
    "# Store all categorical (text) column into dataframe\n",
    "categorical_columns = df.select_dtypes(include=['object']).columns"
   ]
  },
  {
   "cell_type": "code",
   "execution_count": 45,
   "id": "5dad1f84",
   "metadata": {
    "execution": {
     "iopub.execute_input": "2024-04-26T03:48:34.783660Z",
     "iopub.status.busy": "2024-04-26T03:48:34.783198Z",
     "iopub.status.idle": "2024-04-26T03:48:35.042858Z",
     "shell.execute_reply": "2024-04-26T03:48:35.041505Z"
    },
    "papermill": {
     "duration": 0.275449,
     "end_time": "2024-04-26T03:48:35.046099",
     "exception": false,
     "start_time": "2024-04-26T03:48:34.770650",
     "status": "completed"
    },
    "tags": []
   },
   "outputs": [],
   "source": [
    "#Import labelencoder for converting string to number.\n",
    "from sklearn.preprocessing import LabelEncoder\n",
    "le = LabelEncoder()"
   ]
  },
  {
   "cell_type": "code",
   "execution_count": 46,
   "id": "be2aa800",
   "metadata": {
    "execution": {
     "iopub.execute_input": "2024-04-26T03:48:35.070129Z",
     "iopub.status.busy": "2024-04-26T03:48:35.069727Z",
     "iopub.status.idle": "2024-04-26T03:48:35.222784Z",
     "shell.execute_reply": "2024-04-26T03:48:35.221847Z"
    },
    "papermill": {
     "duration": 0.168271,
     "end_time": "2024-04-26T03:48:35.225411",
     "exception": false,
     "start_time": "2024-04-26T03:48:35.057140",
     "status": "completed"
    },
    "tags": []
   },
   "outputs": [],
   "source": [
    "#Converting Categorical columns in Numeric for training M.L. model\n",
    "for col in categorical_columns:\n",
    "    df[col]=le.fit_transform(df[col])"
   ]
  },
  {
   "cell_type": "code",
   "execution_count": 47,
   "id": "19a1147d",
   "metadata": {
    "execution": {
     "iopub.execute_input": "2024-04-26T03:48:35.251251Z",
     "iopub.status.busy": "2024-04-26T03:48:35.250853Z",
     "iopub.status.idle": "2024-04-26T03:48:35.266989Z",
     "shell.execute_reply": "2024-04-26T03:48:35.265933Z"
    },
    "papermill": {
     "duration": 0.031654,
     "end_time": "2024-04-26T03:48:35.269198",
     "exception": false,
     "start_time": "2024-04-26T03:48:35.237544",
     "status": "completed"
    },
    "tags": []
   },
   "outputs": [
    {
     "data": {
      "text/html": [
       "<div>\n",
       "<style scoped>\n",
       "    .dataframe tbody tr th:only-of-type {\n",
       "        vertical-align: middle;\n",
       "    }\n",
       "\n",
       "    .dataframe tbody tr th {\n",
       "        vertical-align: top;\n",
       "    }\n",
       "\n",
       "    .dataframe thead th {\n",
       "        text-align: right;\n",
       "    }\n",
       "</style>\n",
       "<table border=\"1\" class=\"dataframe\">\n",
       "  <thead>\n",
       "    <tr style=\"text-align: right;\">\n",
       "      <th></th>\n",
       "      <th>age</th>\n",
       "      <th>job</th>\n",
       "      <th>marital</th>\n",
       "      <th>education</th>\n",
       "      <th>default</th>\n",
       "      <th>balance</th>\n",
       "      <th>housing</th>\n",
       "      <th>loan</th>\n",
       "      <th>contact</th>\n",
       "      <th>day</th>\n",
       "      <th>month</th>\n",
       "      <th>duration</th>\n",
       "      <th>campaign</th>\n",
       "      <th>pdays</th>\n",
       "      <th>previous</th>\n",
       "      <th>poutcome</th>\n",
       "      <th>y</th>\n",
       "    </tr>\n",
       "  </thead>\n",
       "  <tbody>\n",
       "    <tr>\n",
       "      <th>0</th>\n",
       "      <td>58</td>\n",
       "      <td>4</td>\n",
       "      <td>1</td>\n",
       "      <td>2</td>\n",
       "      <td>0</td>\n",
       "      <td>2143</td>\n",
       "      <td>1</td>\n",
       "      <td>0</td>\n",
       "      <td>2</td>\n",
       "      <td>5</td>\n",
       "      <td>8</td>\n",
       "      <td>261</td>\n",
       "      <td>1</td>\n",
       "      <td>-1</td>\n",
       "      <td>0</td>\n",
       "      <td>3</td>\n",
       "      <td>0</td>\n",
       "    </tr>\n",
       "    <tr>\n",
       "      <th>1</th>\n",
       "      <td>44</td>\n",
       "      <td>9</td>\n",
       "      <td>2</td>\n",
       "      <td>1</td>\n",
       "      <td>0</td>\n",
       "      <td>29</td>\n",
       "      <td>1</td>\n",
       "      <td>0</td>\n",
       "      <td>2</td>\n",
       "      <td>5</td>\n",
       "      <td>8</td>\n",
       "      <td>151</td>\n",
       "      <td>1</td>\n",
       "      <td>-1</td>\n",
       "      <td>0</td>\n",
       "      <td>3</td>\n",
       "      <td>0</td>\n",
       "    </tr>\n",
       "    <tr>\n",
       "      <th>2</th>\n",
       "      <td>33</td>\n",
       "      <td>2</td>\n",
       "      <td>1</td>\n",
       "      <td>1</td>\n",
       "      <td>0</td>\n",
       "      <td>2</td>\n",
       "      <td>1</td>\n",
       "      <td>1</td>\n",
       "      <td>2</td>\n",
       "      <td>5</td>\n",
       "      <td>8</td>\n",
       "      <td>76</td>\n",
       "      <td>1</td>\n",
       "      <td>-1</td>\n",
       "      <td>0</td>\n",
       "      <td>3</td>\n",
       "      <td>0</td>\n",
       "    </tr>\n",
       "    <tr>\n",
       "      <th>3</th>\n",
       "      <td>47</td>\n",
       "      <td>1</td>\n",
       "      <td>1</td>\n",
       "      <td>3</td>\n",
       "      <td>0</td>\n",
       "      <td>1506</td>\n",
       "      <td>1</td>\n",
       "      <td>0</td>\n",
       "      <td>2</td>\n",
       "      <td>5</td>\n",
       "      <td>8</td>\n",
       "      <td>92</td>\n",
       "      <td>1</td>\n",
       "      <td>-1</td>\n",
       "      <td>0</td>\n",
       "      <td>3</td>\n",
       "      <td>0</td>\n",
       "    </tr>\n",
       "    <tr>\n",
       "      <th>4</th>\n",
       "      <td>33</td>\n",
       "      <td>11</td>\n",
       "      <td>2</td>\n",
       "      <td>3</td>\n",
       "      <td>0</td>\n",
       "      <td>1</td>\n",
       "      <td>0</td>\n",
       "      <td>0</td>\n",
       "      <td>2</td>\n",
       "      <td>5</td>\n",
       "      <td>8</td>\n",
       "      <td>198</td>\n",
       "      <td>1</td>\n",
       "      <td>-1</td>\n",
       "      <td>0</td>\n",
       "      <td>3</td>\n",
       "      <td>0</td>\n",
       "    </tr>\n",
       "  </tbody>\n",
       "</table>\n",
       "</div>"
      ],
      "text/plain": [
       "   age  job  marital  education  default  balance  housing  loan  contact  \\\n",
       "0   58    4        1          2        0     2143        1     0        2   \n",
       "1   44    9        2          1        0       29        1     0        2   \n",
       "2   33    2        1          1        0        2        1     1        2   \n",
       "3   47    1        1          3        0     1506        1     0        2   \n",
       "4   33   11        2          3        0        1        0     0        2   \n",
       "\n",
       "   day  month  duration  campaign  pdays  previous  poutcome  y  \n",
       "0    5      8       261         1     -1         0         3  0  \n",
       "1    5      8       151         1     -1         0         3  0  \n",
       "2    5      8        76         1     -1         0         3  0  \n",
       "3    5      8        92         1     -1         0         3  0  \n",
       "4    5      8       198         1     -1         0         3  0  "
      ]
     },
     "execution_count": 47,
     "metadata": {},
     "output_type": "execute_result"
    }
   ],
   "source": [
    "df.head()"
   ]
  },
  {
   "cell_type": "code",
   "execution_count": 48,
   "id": "7b940de8",
   "metadata": {
    "execution": {
     "iopub.execute_input": "2024-04-26T03:48:35.293676Z",
     "iopub.status.busy": "2024-04-26T03:48:35.293235Z",
     "iopub.status.idle": "2024-04-26T03:48:35.317954Z",
     "shell.execute_reply": "2024-04-26T03:48:35.316804Z"
    },
    "papermill": {
     "duration": 0.039896,
     "end_time": "2024-04-26T03:48:35.320367",
     "exception": false,
     "start_time": "2024-04-26T03:48:35.280471",
     "status": "completed"
    },
    "tags": []
   },
   "outputs": [
    {
     "data": {
      "text/html": [
       "<div>\n",
       "<style scoped>\n",
       "    .dataframe tbody tr th:only-of-type {\n",
       "        vertical-align: middle;\n",
       "    }\n",
       "\n",
       "    .dataframe tbody tr th {\n",
       "        vertical-align: top;\n",
       "    }\n",
       "\n",
       "    .dataframe thead th {\n",
       "        text-align: right;\n",
       "    }\n",
       "</style>\n",
       "<table border=\"1\" class=\"dataframe\">\n",
       "  <thead>\n",
       "    <tr style=\"text-align: right;\">\n",
       "      <th></th>\n",
       "      <th>age</th>\n",
       "      <th>job</th>\n",
       "      <th>marital</th>\n",
       "      <th>education</th>\n",
       "      <th>default</th>\n",
       "      <th>balance</th>\n",
       "      <th>housing</th>\n",
       "      <th>loan</th>\n",
       "      <th>contact</th>\n",
       "      <th>day</th>\n",
       "      <th>month</th>\n",
       "      <th>duration</th>\n",
       "      <th>campaign</th>\n",
       "      <th>pdays</th>\n",
       "      <th>previous</th>\n",
       "      <th>poutcome</th>\n",
       "    </tr>\n",
       "  </thead>\n",
       "  <tbody>\n",
       "    <tr>\n",
       "      <th>0</th>\n",
       "      <td>58</td>\n",
       "      <td>4</td>\n",
       "      <td>1</td>\n",
       "      <td>2</td>\n",
       "      <td>0</td>\n",
       "      <td>2143</td>\n",
       "      <td>1</td>\n",
       "      <td>0</td>\n",
       "      <td>2</td>\n",
       "      <td>5</td>\n",
       "      <td>8</td>\n",
       "      <td>261</td>\n",
       "      <td>1</td>\n",
       "      <td>-1</td>\n",
       "      <td>0</td>\n",
       "      <td>3</td>\n",
       "    </tr>\n",
       "    <tr>\n",
       "      <th>1</th>\n",
       "      <td>44</td>\n",
       "      <td>9</td>\n",
       "      <td>2</td>\n",
       "      <td>1</td>\n",
       "      <td>0</td>\n",
       "      <td>29</td>\n",
       "      <td>1</td>\n",
       "      <td>0</td>\n",
       "      <td>2</td>\n",
       "      <td>5</td>\n",
       "      <td>8</td>\n",
       "      <td>151</td>\n",
       "      <td>1</td>\n",
       "      <td>-1</td>\n",
       "      <td>0</td>\n",
       "      <td>3</td>\n",
       "    </tr>\n",
       "    <tr>\n",
       "      <th>2</th>\n",
       "      <td>33</td>\n",
       "      <td>2</td>\n",
       "      <td>1</td>\n",
       "      <td>1</td>\n",
       "      <td>0</td>\n",
       "      <td>2</td>\n",
       "      <td>1</td>\n",
       "      <td>1</td>\n",
       "      <td>2</td>\n",
       "      <td>5</td>\n",
       "      <td>8</td>\n",
       "      <td>76</td>\n",
       "      <td>1</td>\n",
       "      <td>-1</td>\n",
       "      <td>0</td>\n",
       "      <td>3</td>\n",
       "    </tr>\n",
       "    <tr>\n",
       "      <th>3</th>\n",
       "      <td>47</td>\n",
       "      <td>1</td>\n",
       "      <td>1</td>\n",
       "      <td>3</td>\n",
       "      <td>0</td>\n",
       "      <td>1506</td>\n",
       "      <td>1</td>\n",
       "      <td>0</td>\n",
       "      <td>2</td>\n",
       "      <td>5</td>\n",
       "      <td>8</td>\n",
       "      <td>92</td>\n",
       "      <td>1</td>\n",
       "      <td>-1</td>\n",
       "      <td>0</td>\n",
       "      <td>3</td>\n",
       "    </tr>\n",
       "    <tr>\n",
       "      <th>4</th>\n",
       "      <td>33</td>\n",
       "      <td>11</td>\n",
       "      <td>2</td>\n",
       "      <td>3</td>\n",
       "      <td>0</td>\n",
       "      <td>1</td>\n",
       "      <td>0</td>\n",
       "      <td>0</td>\n",
       "      <td>2</td>\n",
       "      <td>5</td>\n",
       "      <td>8</td>\n",
       "      <td>198</td>\n",
       "      <td>1</td>\n",
       "      <td>-1</td>\n",
       "      <td>0</td>\n",
       "      <td>3</td>\n",
       "    </tr>\n",
       "  </tbody>\n",
       "</table>\n",
       "</div>"
      ],
      "text/plain": [
       "   age  job  marital  education  default  balance  housing  loan  contact  \\\n",
       "0   58    4        1          2        0     2143        1     0        2   \n",
       "1   44    9        2          1        0       29        1     0        2   \n",
       "2   33    2        1          1        0        2        1     1        2   \n",
       "3   47    1        1          3        0     1506        1     0        2   \n",
       "4   33   11        2          3        0        1        0     0        2   \n",
       "\n",
       "   day  month  duration  campaign  pdays  previous  poutcome  \n",
       "0    5      8       261         1     -1         0         3  \n",
       "1    5      8       151         1     -1         0         3  \n",
       "2    5      8        76         1     -1         0         3  \n",
       "3    5      8        92         1     -1         0         3  \n",
       "4    5      8       198         1     -1         0         3  "
      ]
     },
     "execution_count": 48,
     "metadata": {},
     "output_type": "execute_result"
    }
   ],
   "source": [
    "#Define independent variable into x and dependent into y.\n",
    "\n",
    "#Independents variables\n",
    "\n",
    "x1= df.drop(['y'],axis=1)\n",
    "x1.head()"
   ]
  },
  {
   "cell_type": "code",
   "execution_count": 49,
   "id": "ea7cb80f",
   "metadata": {
    "execution": {
     "iopub.execute_input": "2024-04-26T03:48:35.345331Z",
     "iopub.status.busy": "2024-04-26T03:48:35.344922Z",
     "iopub.status.idle": "2024-04-26T03:48:35.352355Z",
     "shell.execute_reply": "2024-04-26T03:48:35.351410Z"
    },
    "papermill": {
     "duration": 0.022662,
     "end_time": "2024-04-26T03:48:35.354711",
     "exception": false,
     "start_time": "2024-04-26T03:48:35.332049",
     "status": "completed"
    },
    "tags": []
   },
   "outputs": [
    {
     "data": {
      "text/plain": [
       "0    0\n",
       "1    0\n",
       "2    0\n",
       "3    0\n",
       "4    0\n",
       "Name: y, dtype: int32"
      ]
     },
     "execution_count": 49,
     "metadata": {},
     "output_type": "execute_result"
    }
   ],
   "source": [
    "#Dependent variable\n",
    "y1=df.y\n",
    "y1.head()"
   ]
  },
  {
   "cell_type": "markdown",
   "id": "5cfb507a",
   "metadata": {
    "execution": {
     "iopub.execute_input": "2024-02-08T12:39:13.832800Z",
     "iopub.status.busy": "2024-02-08T12:39:13.831864Z",
     "iopub.status.idle": "2024-02-08T12:39:13.947449Z",
     "shell.execute_reply": "2024-02-08T12:39:13.946177Z",
     "shell.execute_reply.started": "2024-02-08T12:39:13.832755Z"
    },
    "papermill": {
     "duration": 0.011528,
     "end_time": "2024-04-26T03:48:35.377946",
     "exception": false,
     "start_time": "2024-04-26T03:48:35.366418",
     "status": "completed"
    },
    "tags": []
   },
   "source": []
  },
  {
   "cell_type": "code",
   "execution_count": 50,
   "id": "632f6814",
   "metadata": {
    "execution": {
     "iopub.execute_input": "2024-04-26T03:48:35.402527Z",
     "iopub.status.busy": "2024-04-26T03:48:35.402092Z",
     "iopub.status.idle": "2024-04-26T03:48:35.406043Z",
     "shell.execute_reply": "2024-04-26T03:48:35.405280Z"
    },
    "papermill": {
     "duration": 0.018637,
     "end_time": "2024-04-26T03:48:35.408036",
     "exception": false,
     "start_time": "2024-04-26T03:48:35.389399",
     "status": "completed"
    },
    "tags": []
   },
   "outputs": [],
   "source": [
    "#Find best parameters using hyper parameter tuning"
   ]
  },
  {
   "cell_type": "code",
   "execution_count": 51,
   "id": "3d298970",
   "metadata": {
    "execution": {
     "iopub.execute_input": "2024-04-26T03:48:35.433018Z",
     "iopub.status.busy": "2024-04-26T03:48:35.432632Z",
     "iopub.status.idle": "2024-04-26T03:48:35.853721Z",
     "shell.execute_reply": "2024-04-26T03:48:35.852691Z"
    },
    "papermill": {
     "duration": 0.436676,
     "end_time": "2024-04-26T03:48:35.856306",
     "exception": false,
     "start_time": "2024-04-26T03:48:35.419630",
     "status": "completed"
    },
    "tags": []
   },
   "outputs": [],
   "source": [
    "from sklearn import svm\n",
    "from sklearn.ensemble import RandomForestClassifier\n",
    "from sklearn.linear_model import LogisticRegression\n",
    "from sklearn.model_selection import GridSearchCV"
   ]
  },
  {
   "cell_type": "code",
   "execution_count": 52,
   "id": "2549f411",
   "metadata": {
    "execution": {
     "iopub.execute_input": "2024-04-26T03:48:35.883273Z",
     "iopub.status.busy": "2024-04-26T03:48:35.881982Z",
     "iopub.status.idle": "2024-04-26T03:48:35.888562Z",
     "shell.execute_reply": "2024-04-26T03:48:35.887494Z"
    },
    "papermill": {
     "duration": 0.022612,
     "end_time": "2024-04-26T03:48:35.891112",
     "exception": false,
     "start_time": "2024-04-26T03:48:35.868500",
     "status": "completed"
    },
    "tags": []
   },
   "outputs": [],
   "source": [
    "# Find the best parameters.\n",
    "model_params = {\n",
    "  \n",
    "    'random_forest': {\n",
    "        'model': RandomForestClassifier(),\n",
    "        'params': {\n",
    "            'n_estimators': [0,1, 5, 10]\n",
    "        }\n",
    "    }\n",
    "}"
   ]
  },
  {
   "cell_type": "code",
   "execution_count": 53,
   "id": "98c2d0e7",
   "metadata": {
    "execution": {
     "iopub.execute_input": "2024-04-26T03:48:35.917917Z",
     "iopub.status.busy": "2024-04-26T03:48:35.916977Z",
     "iopub.status.idle": "2024-04-26T03:48:42.238443Z",
     "shell.execute_reply": "2024-04-26T03:48:42.237127Z"
    },
    "papermill": {
     "duration": 6.338869,
     "end_time": "2024-04-26T03:48:42.241643",
     "exception": false,
     "start_time": "2024-04-26T03:48:35.902774",
     "status": "completed"
    },
    "tags": []
   },
   "outputs": [],
   "source": [
    "scores = []\n",
    "\n",
    "for model_name, mp in model_params.items():\n",
    "\n",
    "    clf = GridSearchCV(mp['model'], mp['params'], cv=5, return_train_score=False) \n",
    "    clf.fit(x1, y1)\n",
    "    scores.append({\n",
    "        'model': model_name,\n",
    "        'best_score': clf.best_score_,\n",
    "        'best_params': clf.best_params_\n",
    "    })\n"
   ]
  },
  {
   "cell_type": "code",
   "execution_count": 54,
   "id": "2130c248",
   "metadata": {
    "execution": {
     "iopub.execute_input": "2024-04-26T03:48:42.267227Z",
     "iopub.status.busy": "2024-04-26T03:48:42.266797Z",
     "iopub.status.idle": "2024-04-26T03:48:42.282310Z",
     "shell.execute_reply": "2024-04-26T03:48:42.281196Z"
    },
    "papermill": {
     "duration": 0.031217,
     "end_time": "2024-04-26T03:48:42.284775",
     "exception": false,
     "start_time": "2024-04-26T03:48:42.253558",
     "status": "completed"
    },
    "tags": []
   },
   "outputs": [
    {
     "data": {
      "text/html": [
       "<div>\n",
       "<style scoped>\n",
       "    .dataframe tbody tr th:only-of-type {\n",
       "        vertical-align: middle;\n",
       "    }\n",
       "\n",
       "    .dataframe tbody tr th {\n",
       "        vertical-align: top;\n",
       "    }\n",
       "\n",
       "    .dataframe thead th {\n",
       "        text-align: right;\n",
       "    }\n",
       "</style>\n",
       "<table border=\"1\" class=\"dataframe\">\n",
       "  <thead>\n",
       "    <tr style=\"text-align: right;\">\n",
       "      <th></th>\n",
       "      <th>model</th>\n",
       "      <th>best_score</th>\n",
       "      <th>best_params</th>\n",
       "    </tr>\n",
       "  </thead>\n",
       "  <tbody>\n",
       "    <tr>\n",
       "      <th>0</th>\n",
       "      <td>random_forest</td>\n",
       "      <td>0.840584</td>\n",
       "      <td>{'n_estimators': 10}</td>\n",
       "    </tr>\n",
       "  </tbody>\n",
       "</table>\n",
       "</div>"
      ],
      "text/plain": [
       "           model  best_score           best_params\n",
       "0  random_forest    0.840584  {'n_estimators': 10}"
      ]
     },
     "execution_count": 54,
     "metadata": {},
     "output_type": "execute_result"
    }
   ],
   "source": [
    "df1 = pd.DataFrame(scores)\n",
    "df1"
   ]
  },
  {
   "cell_type": "code",
   "execution_count": 55,
   "id": "12b9130e",
   "metadata": {
    "execution": {
     "iopub.execute_input": "2024-04-26T03:48:42.310203Z",
     "iopub.status.busy": "2024-04-26T03:48:42.309787Z",
     "iopub.status.idle": "2024-04-26T03:48:42.318372Z",
     "shell.execute_reply": "2024-04-26T03:48:42.317213Z"
    },
    "papermill": {
     "duration": 0.024276,
     "end_time": "2024-04-26T03:48:42.320922",
     "exception": false,
     "start_time": "2024-04-26T03:48:42.296646",
     "status": "completed"
    },
    "tags": []
   },
   "outputs": [],
   "source": [
    "# Create a Pipeline to Encode Categorical Features Numerically and Train a Model\n",
    "\n",
    "from sklearn.pipeline import Pipeline\n",
    "from sklearn.ensemble import RandomForestRegressor\n",
    "from sklearn.preprocessing import OneHotEncoder\n",
    "\n",
    "# Define the pipeline\n",
    "clf = Pipeline([\n",
    "    ('encodef', OneHotEncoder()),  # Encoding categorical features\n",
    "    ('mod', RandomForestRegressor(n_estimators=10))  # Random Forest model\n",
    "])"
   ]
  },
  {
   "cell_type": "code",
   "execution_count": 56,
   "id": "98fd5371",
   "metadata": {
    "execution": {
     "iopub.execute_input": "2024-04-26T03:48:42.346895Z",
     "iopub.status.busy": "2024-04-26T03:48:42.346472Z",
     "iopub.status.idle": "2024-04-26T03:50:47.475203Z",
     "shell.execute_reply": "2024-04-26T03:50:47.474102Z"
    },
    "papermill": {
     "duration": 125.156819,
     "end_time": "2024-04-26T03:50:47.489633",
     "exception": false,
     "start_time": "2024-04-26T03:48:42.332814",
     "status": "completed"
    },
    "tags": []
   },
   "outputs": [
    {
     "data": {
      "text/html": [
       "<style>#sk-container-id-2 {color: black;}#sk-container-id-2 pre{padding: 0;}#sk-container-id-2 div.sk-toggleable {background-color: white;}#sk-container-id-2 label.sk-toggleable__label {cursor: pointer;display: block;width: 100%;margin-bottom: 0;padding: 0.3em;box-sizing: border-box;text-align: center;}#sk-container-id-2 label.sk-toggleable__label-arrow:before {content: \"▸\";float: left;margin-right: 0.25em;color: #696969;}#sk-container-id-2 label.sk-toggleable__label-arrow:hover:before {color: black;}#sk-container-id-2 div.sk-estimator:hover label.sk-toggleable__label-arrow:before {color: black;}#sk-container-id-2 div.sk-toggleable__content {max-height: 0;max-width: 0;overflow: hidden;text-align: left;background-color: #f0f8ff;}#sk-container-id-2 div.sk-toggleable__content pre {margin: 0.2em;color: black;border-radius: 0.25em;background-color: #f0f8ff;}#sk-container-id-2 input.sk-toggleable__control:checked~div.sk-toggleable__content {max-height: 200px;max-width: 100%;overflow: auto;}#sk-container-id-2 input.sk-toggleable__control:checked~label.sk-toggleable__label-arrow:before {content: \"▾\";}#sk-container-id-2 div.sk-estimator input.sk-toggleable__control:checked~label.sk-toggleable__label {background-color: #d4ebff;}#sk-container-id-2 div.sk-label input.sk-toggleable__control:checked~label.sk-toggleable__label {background-color: #d4ebff;}#sk-container-id-2 input.sk-hidden--visually {border: 0;clip: rect(1px 1px 1px 1px);clip: rect(1px, 1px, 1px, 1px);height: 1px;margin: -1px;overflow: hidden;padding: 0;position: absolute;width: 1px;}#sk-container-id-2 div.sk-estimator {font-family: monospace;background-color: #f0f8ff;border: 1px dotted black;border-radius: 0.25em;box-sizing: border-box;margin-bottom: 0.5em;}#sk-container-id-2 div.sk-estimator:hover {background-color: #d4ebff;}#sk-container-id-2 div.sk-parallel-item::after {content: \"\";width: 100%;border-bottom: 1px solid gray;flex-grow: 1;}#sk-container-id-2 div.sk-label:hover label.sk-toggleable__label {background-color: #d4ebff;}#sk-container-id-2 div.sk-serial::before {content: \"\";position: absolute;border-left: 1px solid gray;box-sizing: border-box;top: 0;bottom: 0;left: 50%;z-index: 0;}#sk-container-id-2 div.sk-serial {display: flex;flex-direction: column;align-items: center;background-color: white;padding-right: 0.2em;padding-left: 0.2em;position: relative;}#sk-container-id-2 div.sk-item {position: relative;z-index: 1;}#sk-container-id-2 div.sk-parallel {display: flex;align-items: stretch;justify-content: center;background-color: white;position: relative;}#sk-container-id-2 div.sk-item::before, #sk-container-id-2 div.sk-parallel-item::before {content: \"\";position: absolute;border-left: 1px solid gray;box-sizing: border-box;top: 0;bottom: 0;left: 50%;z-index: -1;}#sk-container-id-2 div.sk-parallel-item {display: flex;flex-direction: column;z-index: 1;position: relative;background-color: white;}#sk-container-id-2 div.sk-parallel-item:first-child::after {align-self: flex-end;width: 50%;}#sk-container-id-2 div.sk-parallel-item:last-child::after {align-self: flex-start;width: 50%;}#sk-container-id-2 div.sk-parallel-item:only-child::after {width: 0;}#sk-container-id-2 div.sk-dashed-wrapped {border: 1px dashed gray;margin: 0 0.4em 0.5em 0.4em;box-sizing: border-box;padding-bottom: 0.4em;background-color: white;}#sk-container-id-2 div.sk-label label {font-family: monospace;font-weight: bold;display: inline-block;line-height: 1.2em;}#sk-container-id-2 div.sk-label-container {text-align: center;}#sk-container-id-2 div.sk-container {/* jupyter's `normalize.less` sets `[hidden] { display: none; }` but bootstrap.min.css set `[hidden] { display: none !important; }` so we also need the `!important` here to be able to override the default hidden behavior on the sphinx rendered scikit-learn.org. See: https://github.com/scikit-learn/scikit-learn/issues/21755 */display: inline-block !important;position: relative;}#sk-container-id-2 div.sk-text-repr-fallback {display: none;}</style><div id=\"sk-container-id-2\" class=\"sk-top-container\"><div class=\"sk-text-repr-fallback\"><pre>Pipeline(steps=[(&#x27;encodef&#x27;, OneHotEncoder()),\n",
       "                (&#x27;mod&#x27;, RandomForestRegressor(n_estimators=10))])</pre><b>In a Jupyter environment, please rerun this cell to show the HTML representation or trust the notebook. <br />On GitHub, the HTML representation is unable to render, please try loading this page with nbviewer.org.</b></div><div class=\"sk-container\" hidden><div class=\"sk-item sk-dashed-wrapped\"><div class=\"sk-label-container\"><div class=\"sk-label sk-toggleable\"><input class=\"sk-toggleable__control sk-hidden--visually\" id=\"sk-estimator-id-4\" type=\"checkbox\" ><label for=\"sk-estimator-id-4\" class=\"sk-toggleable__label sk-toggleable__label-arrow\">Pipeline</label><div class=\"sk-toggleable__content\"><pre>Pipeline(steps=[(&#x27;encodef&#x27;, OneHotEncoder()),\n",
       "                (&#x27;mod&#x27;, RandomForestRegressor(n_estimators=10))])</pre></div></div></div><div class=\"sk-serial\"><div class=\"sk-item\"><div class=\"sk-estimator sk-toggleable\"><input class=\"sk-toggleable__control sk-hidden--visually\" id=\"sk-estimator-id-5\" type=\"checkbox\" ><label for=\"sk-estimator-id-5\" class=\"sk-toggleable__label sk-toggleable__label-arrow\">OneHotEncoder</label><div class=\"sk-toggleable__content\"><pre>OneHotEncoder()</pre></div></div></div><div class=\"sk-item\"><div class=\"sk-estimator sk-toggleable\"><input class=\"sk-toggleable__control sk-hidden--visually\" id=\"sk-estimator-id-6\" type=\"checkbox\" ><label for=\"sk-estimator-id-6\" class=\"sk-toggleable__label sk-toggleable__label-arrow\">RandomForestRegressor</label><div class=\"sk-toggleable__content\"><pre>RandomForestRegressor(n_estimators=10)</pre></div></div></div></div></div></div></div>"
      ],
      "text/plain": [
       "Pipeline(steps=[('encodef', OneHotEncoder()),\n",
       "                ('mod', RandomForestRegressor(n_estimators=10))])"
      ]
     },
     "execution_count": 56,
     "metadata": {},
     "output_type": "execute_result"
    }
   ],
   "source": [
    "clf.fit(x,y1)"
   ]
  },
  {
   "cell_type": "code",
   "execution_count": 57,
   "id": "0a78b2c0",
   "metadata": {
    "execution": {
     "iopub.execute_input": "2024-04-26T03:50:47.515880Z",
     "iopub.status.busy": "2024-04-26T03:50:47.515014Z",
     "iopub.status.idle": "2024-04-26T03:50:48.333058Z",
     "shell.execute_reply": "2024-04-26T03:50:48.331927Z"
    },
    "papermill": {
     "duration": 0.833715,
     "end_time": "2024-04-26T03:50:48.335362",
     "exception": false,
     "start_time": "2024-04-26T03:50:47.501647",
     "status": "completed"
    },
    "tags": []
   },
   "outputs": [
    {
     "data": {
      "text/plain": [
       "0.8773006098042211"
      ]
     },
     "execution_count": 57,
     "metadata": {},
     "output_type": "execute_result"
    }
   ],
   "source": [
    "clf.score(x,y1)"
   ]
  },
  {
   "cell_type": "markdown",
   "id": "01f82e2a",
   "metadata": {
    "papermill": {
     "duration": 0.011842,
     "end_time": "2024-04-26T03:50:48.359485",
     "exception": false,
     "start_time": "2024-04-26T03:50:48.347643",
     "status": "completed"
    },
    "tags": []
   },
   "source": [
    "#### Our model achieves an accuracy of 87%."
   ]
  },
  {
   "cell_type": "code",
   "execution_count": 58,
   "id": "ff4d4e92",
   "metadata": {
    "execution": {
     "iopub.execute_input": "2024-04-26T03:50:48.386169Z",
     "iopub.status.busy": "2024-04-26T03:50:48.385392Z",
     "iopub.status.idle": "2024-04-26T03:50:48.393495Z",
     "shell.execute_reply": "2024-04-26T03:50:48.392666Z"
    },
    "papermill": {
     "duration": 0.02443,
     "end_time": "2024-04-26T03:50:48.396078",
     "exception": false,
     "start_time": "2024-04-26T03:50:48.371648",
     "status": "completed"
    },
    "tags": []
   },
   "outputs": [],
   "source": [
    "columns = ['age', 'job', 'marital', 'education', 'default', 'balance', 'housing', 'loan', \n",
    "           'contact', 'day', 'month', 'duration', 'campaign', 'pdays', 'previous', 'poutcome']\n",
    "\n",
    "new_data_points = [\n",
    "\n",
    "    [59, 'admin.', 'married', 'secondary', 'no', 2343, 'yes', 'no', 'unknown', 5, 'may', 1042, 1, -1, 0, 'unknown']\n",
    "]\n",
    "\n",
    "input = pd.DataFrame(new_data_points, columns=columns)"
   ]
  },
  {
   "cell_type": "code",
   "execution_count": 59,
   "id": "78aaf80b",
   "metadata": {
    "execution": {
     "iopub.execute_input": "2024-04-26T03:50:48.424228Z",
     "iopub.status.busy": "2024-04-26T03:50:48.423434Z",
     "iopub.status.idle": "2024-04-26T03:50:48.434496Z",
     "shell.execute_reply": "2024-04-26T03:50:48.433727Z"
    },
    "papermill": {
     "duration": 0.02766,
     "end_time": "2024-04-26T03:50:48.436890",
     "exception": false,
     "start_time": "2024-04-26T03:50:48.409230",
     "status": "completed"
    },
    "tags": []
   },
   "outputs": [],
   "source": [
    "# Test the model based on above input.\n",
    "\n",
    "prediction= clf.predict(input)[0]"
   ]
  },
  {
   "cell_type": "code",
   "execution_count": 60,
   "id": "b04d98af",
   "metadata": {
    "execution": {
     "iopub.execute_input": "2024-04-26T03:50:48.463838Z",
     "iopub.status.busy": "2024-04-26T03:50:48.463066Z",
     "iopub.status.idle": "2024-04-26T03:50:48.469383Z",
     "shell.execute_reply": "2024-04-26T03:50:48.468288Z"
    },
    "papermill": {
     "duration": 0.022444,
     "end_time": "2024-04-26T03:50:48.471618",
     "exception": false,
     "start_time": "2024-04-26T03:50:48.449174",
     "status": "completed"
    },
    "tags": []
   },
   "outputs": [
    {
     "name": "stdout",
     "output_type": "stream",
     "text": [
      "The probability of this lead converting into a customer is : 70.0 %\n"
     ]
    }
   ],
   "source": [
    "probability_percentage = prediction * 100\n",
    "print(\"The probability of this lead converting into a customer is :\",probability_percentage,'%')"
   ]
  },
  {
   "cell_type": "code",
   "execution_count": 73,
   "id": "bea67465",
   "metadata": {},
   "outputs": [],
   "source": [
    "columns = ['age', 'job', 'marital', 'education', 'default', 'balance', 'housing', 'loan', \n",
    "           'contact', 'day', 'month', 'duration', 'campaign', 'pdays', 'previous', 'poutcome']\n",
    "\n",
    "new_data_points = [\n",
    "\n",
    "    [35, 'unknown', 'married', 'unknown', 'no', 2500, 'yes', 'no', 'unknown', 5, 'may', 1048, 1, 1, 1, 'unknown']\n",
    "]\n",
    "\n",
    "input = pd.DataFrame(new_data_points, columns=columns)"
   ]
  },
  {
   "cell_type": "code",
   "execution_count": 74,
   "id": "f0feffad",
   "metadata": {},
   "outputs": [],
   "source": [
    "# Test the model based on above input.\n",
    "\n",
    "prediction= clf.predict(input)[0]"
   ]
  },
  {
   "cell_type": "code",
   "execution_count": 75,
   "id": "ec44394f",
   "metadata": {},
   "outputs": [
    {
     "name": "stdout",
     "output_type": "stream",
     "text": [
      "The probability of this lead converting into a customer is : 10.0 %\n"
     ]
    }
   ],
   "source": [
    "probability_percentage = prediction * 100\n",
    "print(\"The probability of this lead converting into a customer is :\",probability_percentage,'%')"
   ]
  },
  {
   "cell_type": "code",
   "execution_count": 76,
   "id": "19060b81",
   "metadata": {},
   "outputs": [],
   "source": [
    "columns = ['age', 'job', 'marital', 'education', 'default', 'balance', 'housing', 'loan', \n",
    "           'contact', 'day', 'month', 'duration', 'campaign', 'pdays', 'previous', 'poutcome']\n",
    "\n",
    "new_data_points = [\n",
    "\n",
    "    [35, 'unknown', 'married', 'unknown', 'no', 2500, 'yes', 'no', 'unknown', 5, 'may', 1048, 1, 1, 1, 'unknown']\n",
    "]\n",
    "\n",
    "input = pd.DataFrame(new_data_points, columns=columns)"
   ]
  },
  {
   "cell_type": "code",
   "execution_count": 77,
   "id": "1dd6c2db",
   "metadata": {},
   "outputs": [],
   "source": [
    "# Test the model based on above input.\n",
    "\n",
    "prediction= clf.predict(input)[0]"
   ]
  },
  {
   "cell_type": "code",
   "execution_count": 78,
   "id": "accdf642",
   "metadata": {},
   "outputs": [
    {
     "name": "stdout",
     "output_type": "stream",
     "text": [
      "The probability of this lead converting into a customer is : 10.0 %\n"
     ]
    }
   ],
   "source": [
    "probability_percentage = prediction * 100\n",
    "print(\"The probability of this lead converting into a customer is :\",probability_percentage,'%')"
   ]
  },
  {
   "cell_type": "code",
   "execution_count": null,
   "id": "6fd271c9",
   "metadata": {},
   "outputs": [],
   "source": []
  }
 ],
 "metadata": {
  "kaggle": {
   "accelerator": "none",
   "dataSources": [
    {
     "datasetId": 223954,
     "sourceId": 1570881,
     "sourceType": "datasetVersion"
    }
   ],
   "dockerImageVersionId": 30646,
   "isGpuEnabled": false,
   "isInternetEnabled": true,
   "language": "python",
   "sourceType": "notebook"
  },
  "kernelspec": {
   "display_name": "Python 3 (ipykernel)",
   "language": "python",
   "name": "python3"
  },
  "language_info": {
   "codemirror_mode": {
    "name": "ipython",
    "version": 3
   },
   "file_extension": ".py",
   "mimetype": "text/x-python",
   "name": "python",
   "nbconvert_exporter": "python",
   "pygments_lexer": "ipython3",
   "version": "3.11.5"
  },
  "papermill": {
   "default_parameters": {},
   "duration": 140.793682,
   "end_time": "2024-04-26T03:50:49.104794",
   "environment_variables": {},
   "exception": null,
   "input_path": "__notebook__.ipynb",
   "output_path": "__notebook__.ipynb",
   "parameters": {},
   "start_time": "2024-04-26T03:48:28.311112",
   "version": "2.5.0"
  }
 },
 "nbformat": 4,
 "nbformat_minor": 5
}
